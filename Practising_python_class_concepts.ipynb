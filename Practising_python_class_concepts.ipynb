{
  "nbformat": 4,
  "nbformat_minor": 0,
  "metadata": {
    "colab": {
      "name": "Practising_python_class_concepts",
      "provenance": [],
      "authorship_tag": "ABX9TyMVShgPF9u8IbPoVytDLiZk",
      "include_colab_link": true
    },
    "kernelspec": {
      "name": "python3",
      "display_name": "Python 3"
    },
    "language_info": {
      "name": "python"
    }
  },
  "cells": [
    {
      "cell_type": "markdown",
      "metadata": {
        "id": "view-in-github",
        "colab_type": "text"
      },
      "source": [
        "<a href=\"https://colab.research.google.com/github/Ravikumar10593-hub/python_conepts/blob/main/Practising_python_class_concepts.ipynb\" target=\"_parent\"><img src=\"https://colab.research.google.com/assets/colab-badge.svg\" alt=\"Open In Colab\"/></a>"
      ]
    },
    {
      "cell_type": "code",
      "metadata": {
        "id": "Hz6GKsPyCMY5"
      },
      "source": [
        "#create a empty class\n",
        "class Myclass:\n",
        "  pass\n"
      ],
      "execution_count": 1,
      "outputs": []
    },
    {
      "cell_type": "code",
      "metadata": {
        "colab": {
          "base_uri": "https://localhost:8080/"
        },
        "id": "1Uz6tW5mCzgW",
        "outputId": "3d71f333-8e91-4c9c-d223-eaeedb870785"
      },
      "source": [
        "#init function \n",
        "class Myclass:\n",
        "  def __init__(self,x):\n",
        "    self.x=x\n",
        "#Object creation of the class    \n",
        "obj = Myclass(5)\n",
        "#printing the value by object_name.variable_name\n",
        "print(obj.x)\n"
      ],
      "execution_count": 5,
      "outputs": [
        {
          "output_type": "stream",
          "text": [
            "5\n"
          ],
          "name": "stdout"
        }
      ]
    },
    {
      "cell_type": "markdown",
      "metadata": {
        "id": "QRUQGGznFeKs"
      },
      "source": [
        "# Way to create a simple class to take and print the details.\n",
        "\n",
        "1.   Create a class.\n",
        "2.   Create a init variable.\n",
        "3.   Create a display varible with argument self.\n",
        "4.   Create class object\n",
        "5.   object.func_name()\n",
        "\n"
      ]
    },
    {
      "cell_type": "code",
      "metadata": {
        "colab": {
          "base_uri": "https://localhost:8080/"
        },
        "id": "hP5AMY5GDHut",
        "outputId": "5e948fa2-d590-45cf-cd8e-dfb56e6cdafd"
      },
      "source": [
        "#creation of some funtions\n",
        "class Myclass:\n",
        "  def __init__(self,name,roll,standard):\n",
        "    self.n=name\n",
        "    self.r=roll\n",
        "    self.s=standard\n",
        "\n",
        "#we read the three variable and now it is time to print all three\n",
        "#value using another function called display\n",
        "\n",
        "  def display(self):\n",
        "    print('My Name is:',self.n)\n",
        "    print('My roll number is:',self.r)\n",
        "    print('My class is:',self.s,'th')\n",
        "\n",
        "obj=Myclass(\"Ravi\",10593,12) \n",
        "obj.display()"
      ],
      "execution_count": 7,
      "outputs": [
        {
          "output_type": "stream",
          "text": [
            "My Name is: Ravi\n",
            "My roll number is: 10593\n",
            "My class is: 12 th\n"
          ],
          "name": "stdout"
        }
      ]
    },
    {
      "cell_type": "code",
      "metadata": {
        "id": "kLAW47gXFH3X"
      },
      "source": [
        "#If i want to change the roll from 10593 to 10553\n",
        "obj.r=10553"
      ],
      "execution_count": 8,
      "outputs": []
    },
    {
      "cell_type": "code",
      "metadata": {
        "colab": {
          "base_uri": "https://localhost:8080/"
        },
        "id": "JbIz8IiTHS95",
        "outputId": "c5156bcc-e0df-4ad3-9be6-06fe5b8e1feb"
      },
      "source": [
        "obj.display()"
      ],
      "execution_count": 9,
      "outputs": [
        {
          "output_type": "stream",
          "text": [
            "My Name is: Ravi\n",
            "My roll number is: 10553\n",
            "My class is: 12 th\n"
          ],
          "name": "stdout"
        }
      ]
    },
    {
      "cell_type": "markdown",
      "metadata": {
        "id": "7Gt71Q08HXVT"
      },
      "source": [
        "**As we can see that now roll hass succesfully being changed from 10593 to 10553**"
      ]
    },
    {
      "cell_type": "code",
      "metadata": {
        "id": "VqA8kkaLHVNW"
      },
      "source": [
        ""
      ],
      "execution_count": null,
      "outputs": []
    }
  ]
}