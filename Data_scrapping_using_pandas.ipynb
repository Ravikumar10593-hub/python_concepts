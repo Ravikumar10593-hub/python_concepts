{
  "nbformat": 4,
  "nbformat_minor": 0,
  "metadata": {
    "colab": {
      "name": "Data_scrapping_using_pandas",
      "provenance": [],
      "authorship_tag": "ABX9TyMcFBFfv+SozmCKPyH8OZpO",
      "include_colab_link": true
    },
    "kernelspec": {
      "name": "python3",
      "display_name": "Python 3"
    },
    "language_info": {
      "name": "python"
    }
  },
  "cells": [
    {
      "cell_type": "markdown",
      "metadata": {
        "id": "view-in-github",
        "colab_type": "text"
      },
      "source": [
        "<a href=\"https://colab.research.google.com/github/Ravikumar10593-hub/python_conepts/blob/main/Data_scrapping_using_pandas.ipynb\" target=\"_parent\"><img src=\"https://colab.research.google.com/assets/colab-badge.svg\" alt=\"Open In Colab\"/></a>"
      ]
    },
    {
      "cell_type": "code",
      "metadata": {
        "id": "jIVEdiInnlcg"
      },
      "source": [
        "import pandas as pd"
      ],
      "execution_count": 12,
      "outputs": []
    },
    {
      "cell_type": "code",
      "metadata": {
        "id": "ccdVhPxon6vD"
      },
      "source": [
        "#pandas is a lib to read the dataset\n",
        "data=pd.read_html('http://tennisabstract.com/reports/atpRankings.html')"
      ],
      "execution_count": 13,
      "outputs": []
    },
    {
      "cell_type": "code",
      "metadata": {
        "colab": {
          "base_uri": "https://localhost:8080/"
        },
        "id": "2lBRkc7EqfgX",
        "outputId": "be71b336-35fe-40a8-a004-63312be5f0c1"
      },
      "source": [
        "data"
      ],
      "execution_count": 14,
      "outputs": [
        {
          "output_type": "execute_result",
          "data": {
            "text/plain": [
              "[    0   1\n",
              " 0 NaN NaN,                     0   1\n",
              " 0  tennisabstract.com NaN,                                                 Rank  ...  Birthdate\n",
              " 0  RankPlayerCountryBirthdate1Novak DjokovicSRB19...  ...        NaN\n",
              " \n",
              " [1 rows x 4 columns],       Rank                        Player Country   Birthdate\n",
              " 0        1                Novak Djokovic     SRB  1987-05-22\n",
              " 1        2               Daniil Medvedev     RUS  1996-02-11\n",
              " 2        3                  Rafael Nadal     ESP  1986-06-03\n",
              " 3        4            Stefanos Tsitsipas     GRE  1998-08-12\n",
              " 4        5                 Dominic Thiem     AUT  1993-09-03\n",
              " ...    ...                           ...     ...         ...\n",
              " 2103  2106  Ivar Jose Aramburu Contreras     MEX  1994-03-21\n",
              " 2104  2106                   Linus Frost     SWE  1995-06-14\n",
              " 2105  2109                Moritz Trocker     ITA  2000-04-22\n",
              " 2106  2110                Alexis Boureau     FRA  1996-04-25\n",
              " 2107  2111                  Umut Akkoyun     TUR  2000-07-10\n",
              " \n",
              " [2108 rows x 4 columns]]"
            ]
          },
          "metadata": {
            "tags": []
          },
          "execution_count": 14
        }
      ]
    },
    {
      "cell_type": "code",
      "metadata": {
        "colab": {
          "base_uri": "https://localhost:8080/"
        },
        "id": "7LmOTlTSoEOt",
        "outputId": "d7330411-b15d-400a-f526-9f2c033a44f9"
      },
      "source": [
        "data=pd.DataFrame(data)"
      ],
      "execution_count": 15,
      "outputs": [
        {
          "output_type": "stream",
          "text": [
            "/usr/local/lib/python3.7/dist-packages/pandas/core/internals/construction.py:305: VisibleDeprecationWarning: Creating an ndarray from ragged nested sequences (which is a list-or-tuple of lists-or-tuples-or ndarrays with different lengths or shapes) is deprecated. If you meant to do this, you must specify 'dtype=object' when creating the ndarray\n",
            "  values = np.array([convert(v) for v in values])\n"
          ],
          "name": "stderr"
        }
      ]
    },
    {
      "cell_type": "code",
      "metadata": {
        "colab": {
          "base_uri": "https://localhost:8080/",
          "height": 175
        },
        "id": "jj682wNeolxO",
        "outputId": "61244665-5b0f-49aa-c471-07127cb04578"
      },
      "source": [
        "data.head()"
      ],
      "execution_count": 16,
      "outputs": [
        {
          "output_type": "execute_result",
          "data": {
            "text/html": [
              "<div>\n",
              "<style scoped>\n",
              "    .dataframe tbody tr th:only-of-type {\n",
              "        vertical-align: middle;\n",
              "    }\n",
              "\n",
              "    .dataframe tbody tr th {\n",
              "        vertical-align: top;\n",
              "    }\n",
              "\n",
              "    .dataframe thead th {\n",
              "        text-align: right;\n",
              "    }\n",
              "</style>\n",
              "<table border=\"1\" class=\"dataframe\">\n",
              "  <thead>\n",
              "    <tr style=\"text-align: right;\">\n",
              "      <th></th>\n",
              "      <th>0</th>\n",
              "    </tr>\n",
              "  </thead>\n",
              "  <tbody>\n",
              "    <tr>\n",
              "      <th>0</th>\n",
              "      <td>0   1\n",
              "0 NaN NaN</td>\n",
              "    </tr>\n",
              "    <tr>\n",
              "      <th>1</th>\n",
              "      <td>0   1\n",
              "0  tennisabstract.co...</td>\n",
              "    </tr>\n",
              "    <tr>\n",
              "      <th>2</th>\n",
              "      <td>...</td>\n",
              "    </tr>\n",
              "    <tr>\n",
              "      <th>3</th>\n",
              "      <td>Rank                        Player Count...</td>\n",
              "    </tr>\n",
              "  </tbody>\n",
              "</table>\n",
              "</div>"
            ],
            "text/plain": [
              "                                                   0\n",
              "0                                    0   1\n",
              "0 NaN NaN\n",
              "1                      0   1\n",
              "0  tennisabstract.co...\n",
              "2                                                ...\n",
              "3        Rank                        Player Count..."
            ]
          },
          "metadata": {
            "tags": []
          },
          "execution_count": 16
        }
      ]
    },
    {
      "cell_type": "code",
      "metadata": {
        "id": "e7DqIRlGpPwl"
      },
      "source": [
        "df=pd.read_csv('/content/tennis.csv')"
      ],
      "execution_count": 17,
      "outputs": []
    },
    {
      "cell_type": "code",
      "metadata": {
        "colab": {
          "base_uri": "https://localhost:8080/",
          "height": 206
        },
        "id": "P4Wet4pUvboz",
        "outputId": "103e67be-ee0b-4396-c7d4-a8640e1efb63"
      },
      "source": [
        "df.head()"
      ],
      "execution_count": 18,
      "outputs": [
        {
          "output_type": "execute_result",
          "data": {
            "text/html": [
              "<div>\n",
              "<style scoped>\n",
              "    .dataframe tbody tr th:only-of-type {\n",
              "        vertical-align: middle;\n",
              "    }\n",
              "\n",
              "    .dataframe tbody tr th {\n",
              "        vertical-align: top;\n",
              "    }\n",
              "\n",
              "    .dataframe thead th {\n",
              "        text-align: right;\n",
              "    }\n",
              "</style>\n",
              "<table border=\"1\" class=\"dataframe\">\n",
              "  <thead>\n",
              "    <tr style=\"text-align: right;\">\n",
              "      <th></th>\n",
              "      <th>Rank</th>\n",
              "      <th>Player</th>\n",
              "      <th>Country</th>\n",
              "      <th>Birthdate</th>\n",
              "    </tr>\n",
              "  </thead>\n",
              "  <tbody>\n",
              "    <tr>\n",
              "      <th>0</th>\n",
              "      <td>1</td>\n",
              "      <td>Novak Djokovic</td>\n",
              "      <td>SRB</td>\n",
              "      <td>5/22/1987</td>\n",
              "    </tr>\n",
              "    <tr>\n",
              "      <th>1</th>\n",
              "      <td>2</td>\n",
              "      <td>Daniil Medvedev</td>\n",
              "      <td>RUS</td>\n",
              "      <td>2/11/1996</td>\n",
              "    </tr>\n",
              "    <tr>\n",
              "      <th>2</th>\n",
              "      <td>3</td>\n",
              "      <td>Rafael Nadal</td>\n",
              "      <td>ESP</td>\n",
              "      <td>6/3/1986</td>\n",
              "    </tr>\n",
              "    <tr>\n",
              "      <th>3</th>\n",
              "      <td>4</td>\n",
              "      <td>Stefanos Tsitsipas</td>\n",
              "      <td>GRE</td>\n",
              "      <td>8/12/1998</td>\n",
              "    </tr>\n",
              "    <tr>\n",
              "      <th>4</th>\n",
              "      <td>5</td>\n",
              "      <td>Dominic Thiem</td>\n",
              "      <td>AUT</td>\n",
              "      <td>9/3/1993</td>\n",
              "    </tr>\n",
              "  </tbody>\n",
              "</table>\n",
              "</div>"
            ],
            "text/plain": [
              "   Rank              Player Country  Birthdate\n",
              "0     1      Novak Djokovic     SRB  5/22/1987\n",
              "1     2     Daniil Medvedev     RUS  2/11/1996\n",
              "2     3        Rafael Nadal     ESP   6/3/1986\n",
              "3     4  Stefanos Tsitsipas     GRE  8/12/1998\n",
              "4     5       Dominic Thiem     AUT   9/3/1993"
            ]
          },
          "metadata": {
            "tags": []
          },
          "execution_count": 18
        }
      ]
    },
    {
      "cell_type": "code",
      "metadata": {
        "id": "pEzYDFCxvdFI"
      },
      "source": [
        "import seaborn as sns\n",
        "import matplotlib.pyplot as plt\n"
      ],
      "execution_count": 22,
      "outputs": []
    },
    {
      "cell_type": "code",
      "metadata": {
        "colab": {
          "base_uri": "https://localhost:8080/",
          "height": 517
        },
        "id": "8kb12-SIvj5B",
        "outputId": "c53005c0-f745-4143-ef47-09153c90ae60"
      },
      "source": [
        "plt.figure(figsize=(12,8))\n",
        "sns.countplot(y=df['Country'])"
      ],
      "execution_count": 23,
      "outputs": [
        {
          "output_type": "execute_result",
          "data": {
            "text/plain": [
              "<matplotlib.axes._subplots.AxesSubplot at 0x7f1872393bd0>"
            ]
          },
          "metadata": {
            "tags": []
          },
          "execution_count": 23
        },
        {
          "output_type": "display_data",
          "data": {
            "image/png": "[encoded data removed]",
            "text/plain": [
              "<Figure size 864x576 with 1 Axes>"
            ]
          },
          "metadata": {
            "tags": [],
            "needs_background": "light"
          }
        }
      ]
    },
    {
      "cell_type": "code",
      "metadata": {
        "id": "c6Y3vwOvvqPB"
      },
      "source": [
        ""
      ],
      "execution_count": null,
      "outputs": []
    }
  ]
}